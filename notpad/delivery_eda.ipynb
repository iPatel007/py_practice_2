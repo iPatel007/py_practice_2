{
 "cells": [
  {
   "cell_type": "code",
   "execution_count": 4,
   "metadata": {},
   "outputs": [
    {
     "name": "stdout",
     "output_type": "stream",
     "text": [
      "Date        0\n",
      "Price       0\n",
      "Open        0\n",
      "High        0\n",
      "Low         0\n",
      "Vol.        1\n",
      "Change %    0\n",
      "dtype: int64\n",
      "            Price        Open        High         Low\n",
      "count  721.000000  721.000000  721.000000  721.000000\n",
      "mean   124.657698  124.928141  127.807004  122.037115\n",
      "std     86.961086   87.337001   89.520037   84.903342\n",
      "min     35.350000   35.350000   36.000000   34.800000\n",
      "25%     44.800000   44.850000   45.400000   44.200000\n",
      "50%     83.250000   83.100000   84.550000   81.850000\n",
      "75%    216.050000  216.000000  220.000000  210.100000\n",
      "max    336.800000  340.200000  351.600000  333.000000\n"
     ]
    }
   ],
   "source": [
    "import pandas as pd\n",
    "import numpy as np\n",
    "import matplotlib.pyplot as plt\n",
    "import seaborn as sns\n",
    "from sklearn.model_selection import train_test_split\n",
    "from sklearn.preprocessing import LabelEncoder\n",
    "from sklearn.ensemble import RandomForestRegressor\n",
    "from sklearn.metrics import mean_squared_error\n",
    "\n",
    "# Load the dataset\n",
    "df = pd.read_csv('/Users/ipatel/Documents/Amit/Python/Practice/p2/csv/deliveries.csv')\n",
    "\n",
    "# EDA\n",
    "# Check for missing values\n",
    "print(df.isnull().sum())\n",
    "\n",
    "# Basic statistics\n",
    "print(df.describe())\n"
   ]
  }
 ],
 "metadata": {
  "kernelspec": {
   "display_name": "Python 3",
   "language": "python",
   "name": "python3"
  },
  "language_info": {
   "codemirror_mode": {
    "name": "ipython",
    "version": 3
   },
   "file_extension": ".py",
   "mimetype": "text/x-python",
   "name": "python",
   "nbconvert_exporter": "python",
   "pygments_lexer": "ipython3",
   "version": "3.12.6"
  }
 },
 "nbformat": 4,
 "nbformat_minor": 2
}
